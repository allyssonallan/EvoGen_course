{
  "nbformat": 4,
  "nbformat_minor": 0,
  "metadata": {
    "colab": {
      "name": "Overview of Colaboratory Features",
      "provenance": [],
      "collapsed_sections": [],
      "toc_visible": true,
      "include_colab_link": true
    },
    "kernelspec": {
      "display_name": "Python 3",
      "name": "python3"
    }
  },
  "cells": [
    {
      "cell_type": "markdown",
      "metadata": {
        "id": "view-in-github",
        "colab_type": "text"
      },
      "source": [
        "<a href=\"https://colab.research.google.com/github/allyssonallan/EvoGen_course/blob/master/Overview_of_Colaboratory_Features.ipynb\" target=\"_parent\"><img src=\"https://colab.research.google.com/assets/colab-badge.svg\" alt=\"Open In Colab\"/></a>"
      ]
    },
    {
      "cell_type": "markdown",
      "metadata": {
        "id": "JyG45Qk3qQLS"
      },
      "source": [
        "# Células \n",
        "\n",
        "Um notebook é uma lista de células. As células contem tanto um texto explicativo como um código executável e seu output. Clique numa célula para interagir."
      ]
    },
    {
      "cell_type": "markdown",
      "metadata": {
        "id": "KR921S_OQSHG"
      },
      "source": [
        "## Células de código\n",
        "Abaixo é uma **célula de código**. Uma vez que está indicado no botao da barra de ferramentas que está conectado, você poderá clicar na célula para selecioná-la, click na célula para selecioná-la e executa-la. \n",
        "\n",
        "Clique no botão **play** na parte esquerda da célula para executa-la.\n"
      ]
    },
    {
      "cell_type": "code",
      "metadata": {
        "cellView": "both",
        "id": "WUtu4316QSHL"
      },
      "source": [
        "a = 10\n",
        "a"
      ],
      "execution_count": null,
      "outputs": []
    },
    {
      "cell_type": "markdown",
      "metadata": {
        "id": "Id6tDF1HQSHD"
      },
      "source": [
        "## Texto das células\n",
        "Essa é uma **célula texto**. Você poderá dar um clique duplo para editar essa célula. Os textos são apresentados com a sintaxe markdown. [guia markdown em inglês](/notebooks/markdown_guide.ipynb).\n",
        "\n",
        "Você também poderá fazer inclusão de equações usando a linguagem LaTex. [LaTeX](http://www.latex-project.org/)\n",
        "sendo renderizada por [MathJax](https://www.mathjax.org). É só colocar um par de sinais **\\$** no início e no final da equação. Por exemplo: `$\\sqrt{3x-1}+(1+x)^2$` traduz-se em\n",
        "$\\sqrt{3x-1}+(1+x)^2.$\n"
      ]
    },
    {
      "cell_type": "markdown",
      "metadata": {
        "id": "7bqjkGKwQSHW"
      },
      "source": [
        "## Adicionando e movendo células\n",
        "\n",
        "Você poderá adicionar novas células com os botões **+ Código** e **+ Texto** que são mostrados quando você clica uma vez sobre as células. Os comandos que esses botões apresentam também podem ser encontrados na barra de ferramentas, no menu Inserir. Se você clicar uma célula será adicionada abaixo. \n",
        "\n",
        "Voce pode mover a célula selecionando-a e clicando na **setinha para cima** ou na ** setinha para baixo ** ao clicar na célula.\n",
        "\n",
        "Células consecutivas podem ser selecionadas clicando fora de uma delas e passando o cursor por cima das células que você tem interesse em selecionar. Shift também funciona.\n"
      ]
    },
    {
      "cell_type": "code",
      "metadata": {
        "id": "Ri6Aj1Bcu6pf"
      },
      "source": [
        ""
      ],
      "execution_count": null,
      "outputs": []
    },
    {
      "cell_type": "code",
      "metadata": {
        "id": "xNQZwnnQvP_n"
      },
      "source": [
        ""
      ],
      "execution_count": null,
      "outputs": []
    },
    {
      "cell_type": "code",
      "metadata": {
        "id": "oR4ZSm0YwJsJ"
      },
      "source": [
        ""
      ],
      "execution_count": null,
      "outputs": []
    },
    {
      "cell_type": "markdown",
      "metadata": {
        "id": "GOwlZRXEQSHZ"
      },
      "source": [
        "## Trabalhando com python"
      ]
    },
    {
      "cell_type": "markdown",
      "metadata": {
        "id": "RVuqWUXPQSHa"
      },
      "source": [
        "Processos longos do python podem ser interrompidos clicando no botão STOP. Ou ainda utilizando as *teclas crtl+M I*."
      ]
    },
    {
      "cell_type": "code",
      "metadata": {
        "cellView": "both",
        "colab": {
          "base_uri": "https://localhost:8080/"
        },
        "id": "d-S-3nYLQSHb",
        "outputId": "aed13c5d-1b74-4223-d55a-0db8c2870474"
      },
      "source": [
        "import time\n",
        "print(\"Dormindo\")\n",
        "time.sleep(30) # dormindo por um tempo; me interrompa!\n",
        "print(\"Cochilo realizado com sucesso\")"
      ],
      "execution_count": 21,
      "outputs": [
        {
          "output_type": "stream",
          "text": [
            "Dormindo\n",
            "Cochilo realizado com sucesso\n"
          ],
          "name": "stdout"
        }
      ]
    },
    {
      "cell_type": "markdown",
      "metadata": {
        "id": "Wej_mEyXQSHc"
      },
      "source": [
        "##**Comandos** \n",
        "\n",
        "Comandos que podem ser utilizados no Google Colab\n",
        "como ls:"
      ]
    },
    {
      "cell_type": "code",
      "metadata": {
        "cellView": "both",
        "colab": {
          "base_uri": "https://localhost:8080/"
        },
        "id": "5OCYEvK5QSHf",
        "outputId": "b583fb53-b2d0-4079-ca55-59306748181a"
      },
      "source": [
        "!ls /bin"
      ],
      "execution_count": 23,
      "outputs": [
        {
          "output_type": "stream",
          "text": [
            "bash\t       hostname       su\n",
            "bunzip2        journalctl     sync\n",
            "bzcat\t       kill\t      systemctl\n",
            "bzcmp\t       kmod\t      systemd\n",
            "bzdiff\t       less\t      systemd-ask-password\n",
            "bzegrep        lessecho       systemd-escape\n",
            "bzexe\t       lessfile       systemd-hwdb\n",
            "bzfgrep        lesskey\t      systemd-inhibit\n",
            "bzgrep\t       lesspipe       systemd-machine-id-setup\n",
            "bzip2\t       ln\t      systemd-notify\n",
            "bzip2recover   login\t      systemd-sysusers\n",
            "bzless\t       loginctl       systemd-tmpfiles\n",
            "bzmore\t       ls\t      systemd-tty-ask-password-agent\n",
            "cat\t       lsblk\t      tar\n",
            "chgrp\t       lsmod\t      tempfile\n",
            "chmod\t       mkdir\t      touch\n",
            "chown\t       mknod\t      true\n",
            "cp\t       mktemp\t      udevadm\n",
            "dash\t       more\t      ulockmgr_server\n",
            "date\t       mount\t      umount\n",
            "dd\t       mountpoint     uname\n",
            "df\t       mv\t      uncompress\n",
            "dir\t       networkctl     vdir\n",
            "dmesg\t       nisdomainname  wdctl\n",
            "dnsdomainname  pidof\t      which\n",
            "domainname     ps\t      ypdomainname\n",
            "echo\t       pwd\t      zcat\n",
            "egrep\t       rbash\t      zcmp\n",
            "false\t       readlink       zdiff\n",
            "fgrep\t       rm\t      zegrep\n",
            "findmnt        rmdir\t      zfgrep\n",
            "fuser\t       run-parts      zforce\n",
            "fusermount     sed\t      zgrep\n",
            "grep\t       sh\t      zless\n",
            "gunzip\t       sh.distrib     zmore\n",
            "gzexe\t       sleep\t      znew\n",
            "gzip\t       stty\n"
          ],
          "name": "stdout"
        }
      ]
    },
    {
      "cell_type": "markdown",
      "metadata": {
        "id": "y8Da6JWKQSHh"
      },
      "source": [
        "O `!ls` provavelmente gerará um grande output para fechar você pode clicar no x. \n",
        "\n",
        "1. Clicando no botão (x) ; ou\n",
        "2. Clicando com o botão direito e clicar em limpar saída.\n",
        "\n",
        "Execute quaisquer outros processos usando `!` na frente, note que o resultado será carregado para uma variável:"
      ]
    },
    {
      "cell_type": "code",
      "metadata": {
        "cellView": "both",
        "colab": {
          "base_uri": "https://localhost:8080/"
        },
        "id": "zqGrv0blQSHj",
        "outputId": "25fc9c92-75fb-4db6-8e7e-9c71bdab318e"
      },
      "source": [
        "message = 'Colaboratory é ótimo!'\n",
        "foo = !echo -e '$message\\n$message'\n",
        "foo"
      ],
      "execution_count": 39,
      "outputs": [
        {
          "output_type": "execute_result",
          "data": {
            "text/plain": [
              "['Colaboratory is great!', 'Colaboratory is great!']"
            ]
          },
          "metadata": {
            "tags": []
          },
          "execution_count": 39
        }
      ]
    },
    {
      "cell_type": "markdown",
      "metadata": {
        "id": "qM4myQGfQboQ"
      },
      "source": [
        "## Mágica\n",
        "No google colab podemos trabalhar tanto com o python, quanto com o bash e com o html. Por exemplo:"
      ]
    },
    {
      "cell_type": "code",
      "metadata": {
        "cellView": "both",
        "id": "odfM-_GxWbCy"
      },
      "source": [
        "%%html\n",
        "<marquee style='width: 30%; color: blue;'><b>Bem-vindos ao curso de bioinformática!</b></marquee>"
      ],
      "execution_count": null,
      "outputs": []
    },
    {
      "cell_type": "code",
      "metadata": {
        "id": "_YrTcK7k22Fp"
      },
      "source": [
        "%%html\n",
        "<svg xmlns=\"http://www.w3.org/2000/svg\" viewBox=\"0 0 450 400\" width=\"200\" height=\"200\">\n",
        "  <rect x=\"80\" y=\"60\" width=\"250\" height=\"250\" rx=\"20\" style=\"fill:green; stroke:black; fill-opacity:0.7\" />\n",
        "  <rect x=\"180\" y=\"110\" width=\"250\" height=\"250\" rx=\"40\" style=\"fill:red; stroke:black; fill-opacity:0.5;\" />\n",
        "</svg>"
      ],
      "execution_count": null,
      "outputs": []
    },
    {
      "cell_type": "markdown",
      "metadata": {
        "id": "d4L9TOP9QSHn"
      },
      "source": [
        "### Completar o comando por tab e explorar o código\n",
        "\n",
        "Assim como outras linguagens o Colab apresenta a função de completar as sentenças.  Por exemplo, utilizando objetos python podemos explorar seus atributos, bem como ver rapidamente a documentação por trás da função. Primeiro clique em executar o codigo para importar o módulo [`numpy`](http://www.numpy.org) frequentemente utilizado em ciências de dados e bioinformática."
      ]
    },
    {
      "cell_type": "code",
      "metadata": {
        "cellView": "both",
        "id": "Q0JKWcmtQSHp"
      },
      "source": [
        "import numpy as np"
      ],
      "execution_count": 33,
      "outputs": []
    },
    {
      "cell_type": "markdown",
      "metadata": {
        "id": "1M890-bXeyYp"
      },
      "source": [
        "Agora você pode colocar seu cursor após o ``np.random.`` e pressionar **Tab**, você verá uma lista de funções disponíveis dentro do submódulo ``np.random`` ."
      ]
    },
    {
      "cell_type": "code",
      "metadata": {
        "cellView": "both",
        "id": "j6QRIfUHQSHq"
      },
      "source": [
        "np.random."
      ],
      "execution_count": null,
      "outputs": []
    },
    {
      "cell_type": "markdown",
      "metadata": {
        "id": "g6MfomFhQSHs"
      },
      "source": [
        "Se você digitar um parenteses aberto seguido de **Tab** depois de qualquer função ou classe no módulo, você verá uma janela pop-up de sua documentação."
      ]
    },
    {
      "cell_type": "code",
      "metadata": {
        "cellView": "both",
        "id": "SD0XnrVhQSHt"
      },
      "source": [
        "np.random.rand( "
      ],
      "execution_count": null,
      "outputs": []
    },
    {
      "cell_type": "markdown",
      "metadata": {
        "id": "9ReRLQaxJ-zP"
      },
      "source": [
        "To open the documentation in a persistent pane at the bottom of your screen, add a **?** after the object or method name and execute the cell using **Shift+Enter**:"
      ]
    },
    {
      "cell_type": "code",
      "metadata": {
        "cellView": "both",
        "id": "YgQ6Tu7DK17l"
      },
      "source": [
        "np.random?"
      ],
      "execution_count": null,
      "outputs": []
    },
    {
      "cell_type": "markdown",
      "metadata": {
        "id": "TYTBdJXxfqiJ"
      },
      "source": [
        "## Formatação de erros"
      ]
    },
    {
      "cell_type": "markdown",
      "metadata": {
        "id": "4bqAVK-aQSHx"
      },
      "source": [
        "O colab indica onde está o erro e porque a divisão está errada."
      ]
    },
    {
      "cell_type": "code",
      "metadata": {
        "cellView": "both",
        "colab": {
          "base_uri": "https://localhost:8080/",
          "height": 202
        },
        "id": "CrJf1PEmQSHx",
        "outputId": "40adc2f5-df6e-4a2f-9322-1872b282d02d"
      },
      "source": [
        "x = 1\n",
        "y = 4\n",
        "z = y/(1-x)"
      ],
      "execution_count": 40,
      "outputs": [
        {
          "output_type": "error",
          "ename": "ZeroDivisionError",
          "evalue": "ignored",
          "traceback": [
            "\u001b[0;31m---------------------------------------------------------------------------\u001b[0m",
            "\u001b[0;31mZeroDivisionError\u001b[0m                         Traceback (most recent call last)",
            "\u001b[0;32m<ipython-input-40-d93e730d8440>\u001b[0m in \u001b[0;36m<module>\u001b[0;34m()\u001b[0m\n\u001b[1;32m      1\u001b[0m \u001b[0mx\u001b[0m \u001b[0;34m=\u001b[0m \u001b[0;36m1\u001b[0m\u001b[0;34m\u001b[0m\u001b[0;34m\u001b[0m\u001b[0m\n\u001b[1;32m      2\u001b[0m \u001b[0my\u001b[0m \u001b[0;34m=\u001b[0m \u001b[0;36m4\u001b[0m\u001b[0;34m\u001b[0m\u001b[0;34m\u001b[0m\u001b[0m\n\u001b[0;32m----> 3\u001b[0;31m \u001b[0mz\u001b[0m \u001b[0;34m=\u001b[0m \u001b[0my\u001b[0m\u001b[0;34m/\u001b[0m\u001b[0;34m(\u001b[0m\u001b[0;36m1\u001b[0m\u001b[0;34m-\u001b[0m\u001b[0mx\u001b[0m\u001b[0;34m)\u001b[0m\u001b[0;34m\u001b[0m\u001b[0;34m\u001b[0m\u001b[0m\n\u001b[0m",
            "\u001b[0;31mZeroDivisionError\u001b[0m: division by zero"
          ]
        }
      ]
    },
    {
      "cell_type": "markdown",
      "metadata": {
        "id": "7cRnhv_7N4Pa"
      },
      "source": [
        "### Ricos, e interativas saídas\n",
        "Até agora todas as saídas tem sido em formato de texto, mas elas podem ser mais interesantes como logo abaixo:\n"
      ]
    },
    {
      "cell_type": "code",
      "metadata": {
        "colab": {
          "base_uri": "https://localhost:8080/",
          "height": 281
        },
        "id": "JVXnTqyE9RET",
        "outputId": "13463fd7-cdef-4042-efaf-e1950dafb5b7"
      },
      "source": [
        "import numpy as np\n",
        "from matplotlib import pyplot as plt\n",
        "\n",
        "ys = 200 + np.random.randn(100)\n",
        "x = [x for x in range(len(ys))]\n",
        "\n",
        "plt.plot(x, ys, '-')\n",
        "plt.fill_between(x, ys, 195, where=(ys > 195), facecolor='g', alpha=0.6)\n",
        "\n",
        "plt.title(\"Exemplo\")\n",
        "plt.show()"
      ],
      "execution_count": 42,
      "outputs": [
        {
          "output_type": "display_data",
          "data": {
            "image/png": "[encoded data removed]",
            "text/plain": [
              "<Figure size 432x288 with 1 Axes>"
            ]
          },
          "metadata": {
            "tags": [],
            "needs_background": "light"
          }
        }
      ]
    },
    {
      "cell_type": "markdown",
      "metadata": {
        "id": "aro-UJgUQSH1"
      },
      "source": [
        "# Integração como google drive\n",
        "\n",
        "O Colab é integrado com o Google Drive. Permite-se compartilhar, comentar, e colaborar no mesmo documento por múltiplas pessoas e em tempo real:\n",
        "\n",
        "O botão **compartilhar** permite compartilhar o notebook e controlar as permissões.\n",
        "\n",
        "* A opção **Arquivo->Fazer uma cópia** cria uma cópia do notebook no drive.\n",
        "\n",
        "* A opção **Arquivo->Salvar** salva o arquivo no Drive. **Arquivo->Salvar e fixar revisao ** fixa a versão atual para não ser apagada pelo histórico. \n",
        "\n",
        "* A opção **Arquivo->História de revisão** mostra a história de revisão do notebook. "
      ]
    },
    {
      "cell_type": "markdown",
      "metadata": {
        "id": "4hfV37gxpP_c"
      },
      "source": [
        "## Comentando na célula\n",
        "\n",
        "Você pode comentar em um notebook Colab como em qualquer outro documento google. Os comentários são adicionados às células. \n",
        "\n",
        "Se você tem uma permissão só de **comentários**, você poderá ver o botão de comentários na parte direita da célula que você clicar.\n",
        "\n",
        "Se vocẽ quiser editar ou ter permissões de comentar você pode proceder de três formas.  \n",
        "\n",
        "1. Selecione a célula e clique no botão comentar na parte direita-acima da célula.\n",
        "1. Clique com o botao direito do mouse na célula  e clique em **Adicionar comentário**.\n",
        "3. Ou use o atalho **Ctrl+Shift+M** para adicionar o comentário diretamente na célula. \n",
        "\n",
        "\n",
        "O botão comentário na parte direita superior da tela permite verificar todos os comentários deixados no notebook."
      ]
    },
    {
      "cell_type": "markdown",
      "metadata": {
        "id": "pXyRKBQr7BNH"
      },
      "source": [
        "##Exercício\n",
        "\n",
        "* Siga o tutorial para verificar se compreendeu bem a primeira parte do mini-curso\n",
        "\n",
        "Abra o https://colab.research.google.com/\n",
        "\n",
        "Clique em novo notebook\n",
        "\n",
        "Abra uma nova célula de texto e digite:\n",
        "\n",
        "* Treinamento para a próxima aula usando o google colab\n",
        "\n",
        "\n"
      ]
    },
    {
      "cell_type": "code",
      "metadata": {
        "id": "Sts2CiCC89e0",
        "outputId": "6aa4f875-7acb-473e-ae06-ecae9e542102",
        "colab": {
          "base_uri": "https://localhost:8080/"
        }
      },
      "source": [
        "from google.colab import drive\n",
        "drive.mount('/content/drive')"
      ],
      "execution_count": 45,
      "outputs": [
        {
          "output_type": "stream",
          "text": [
            "Drive already mounted at /content/drive; to attempt to forcibly remount, call drive.mount(\"/content/drive\", force_remount=True).\n"
          ],
          "name": "stdout"
        }
      ]
    }
  ]
}